{
 "cells": [
  {
   "cell_type": "code",
   "execution_count": 1,
   "metadata": {},
   "outputs": [],
   "source": [
    "import numpy as np\n",
    "import pandas as pd\n",
    "from sklearn.preprocessing import MinMaxScaler, StandardScaler\n",
    "from sklearn.model_selection import train_test_split\n",
    "from sklearn.metrics import accuracy_score, mean_absolute_error, mean_squared_error\n",
    "import seaborn as sns\n",
    "import matplotlib.pyplot as plt\n",
    "from sklearn import tree\n",
    "from sklearn.ensemble import RandomForestClassifier\n",
    "from sklearn.tree import DecisionTreeClassifier\n",
    "from sklearn import metrics\n",
    "from xgboost import XGBClassifier\n",
    "from sklearn.preprocessing import OneHotEncoder\n",
    "from sklearn.linear_model import LogisticRegression\n",
    "from sklearn.neighbors import KNeighborsClassifier\n",
    "from sklearn.svm import SVC\n"
   ]
  },
  {
   "cell_type": "code",
   "execution_count": 2,
   "metadata": {},
   "outputs": [
    {
     "data": {
      "text/html": [
       "<div>\n",
       "<style scoped>\n",
       "    .dataframe tbody tr th:only-of-type {\n",
       "        vertical-align: middle;\n",
       "    }\n",
       "\n",
       "    .dataframe tbody tr th {\n",
       "        vertical-align: top;\n",
       "    }\n",
       "\n",
       "    .dataframe thead th {\n",
       "        text-align: right;\n",
       "    }\n",
       "</style>\n",
       "<table border=\"1\" class=\"dataframe\">\n",
       "  <thead>\n",
       "    <tr style=\"text-align: right;\">\n",
       "      <th></th>\n",
       "      <th>id</th>\n",
       "      <th>grade</th>\n",
       "      <th>annual_inc</th>\n",
       "      <th>short_emp</th>\n",
       "      <th>emp_length_num</th>\n",
       "      <th>home_ownership</th>\n",
       "      <th>dti</th>\n",
       "      <th>purpose</th>\n",
       "      <th>term</th>\n",
       "      <th>last_delinq_none</th>\n",
       "      <th>last_major_derog_none</th>\n",
       "      <th>revol_util</th>\n",
       "      <th>od_ratio</th>\n",
       "      <th>bad_loan</th>\n",
       "    </tr>\n",
       "  </thead>\n",
       "  <tbody>\n",
       "    <tr>\n",
       "      <th>0</th>\n",
       "      <td>11454641</td>\n",
       "      <td>A</td>\n",
       "      <td>100000</td>\n",
       "      <td>1</td>\n",
       "      <td>1</td>\n",
       "      <td>RENT</td>\n",
       "      <td>26.27</td>\n",
       "      <td>credit_card</td>\n",
       "      <td>36 months</td>\n",
       "      <td>1</td>\n",
       "      <td>NaN</td>\n",
       "      <td>43.2</td>\n",
       "      <td>0.160624</td>\n",
       "      <td>0</td>\n",
       "    </tr>\n",
       "    <tr>\n",
       "      <th>1</th>\n",
       "      <td>9604874</td>\n",
       "      <td>A</td>\n",
       "      <td>83000</td>\n",
       "      <td>0</td>\n",
       "      <td>4</td>\n",
       "      <td>OWN</td>\n",
       "      <td>5.39</td>\n",
       "      <td>credit_card</td>\n",
       "      <td>36 months</td>\n",
       "      <td>0</td>\n",
       "      <td>NaN</td>\n",
       "      <td>21.5</td>\n",
       "      <td>0.810777</td>\n",
       "      <td>0</td>\n",
       "    </tr>\n",
       "    <tr>\n",
       "      <th>2</th>\n",
       "      <td>9684700</td>\n",
       "      <td>D</td>\n",
       "      <td>78000</td>\n",
       "      <td>0</td>\n",
       "      <td>11</td>\n",
       "      <td>MORTGAGE</td>\n",
       "      <td>18.45</td>\n",
       "      <td>debt_consolidation</td>\n",
       "      <td>60 months</td>\n",
       "      <td>1</td>\n",
       "      <td>NaN</td>\n",
       "      <td>46.3</td>\n",
       "      <td>0.035147</td>\n",
       "      <td>1</td>\n",
       "    </tr>\n",
       "    <tr>\n",
       "      <th>3</th>\n",
       "      <td>9695736</td>\n",
       "      <td>D</td>\n",
       "      <td>37536</td>\n",
       "      <td>0</td>\n",
       "      <td>6</td>\n",
       "      <td>MORTGAGE</td>\n",
       "      <td>12.28</td>\n",
       "      <td>medical</td>\n",
       "      <td>60 months</td>\n",
       "      <td>0</td>\n",
       "      <td>NaN</td>\n",
       "      <td>10.7</td>\n",
       "      <td>0.534887</td>\n",
       "      <td>1</td>\n",
       "    </tr>\n",
       "    <tr>\n",
       "      <th>4</th>\n",
       "      <td>9795013</td>\n",
       "      <td>D</td>\n",
       "      <td>65000</td>\n",
       "      <td>0</td>\n",
       "      <td>11</td>\n",
       "      <td>MORTGAGE</td>\n",
       "      <td>11.26</td>\n",
       "      <td>debt_consolidation</td>\n",
       "      <td>36 months</td>\n",
       "      <td>0</td>\n",
       "      <td>NaN</td>\n",
       "      <td>15.2</td>\n",
       "      <td>0.166500</td>\n",
       "      <td>0</td>\n",
       "    </tr>\n",
       "  </tbody>\n",
       "</table>\n",
       "</div>"
      ],
      "text/plain": [
       "         id grade  annual_inc  short_emp  emp_length_num home_ownership  \\\n",
       "0  11454641     A      100000          1               1           RENT   \n",
       "1   9604874     A       83000          0               4            OWN   \n",
       "2   9684700     D       78000          0              11       MORTGAGE   \n",
       "3   9695736     D       37536          0               6       MORTGAGE   \n",
       "4   9795013     D       65000          0              11       MORTGAGE   \n",
       "\n",
       "     dti             purpose        term  last_delinq_none  \\\n",
       "0  26.27         credit_card   36 months                 1   \n",
       "1   5.39         credit_card   36 months                 0   \n",
       "2  18.45  debt_consolidation   60 months                 1   \n",
       "3  12.28             medical   60 months                 0   \n",
       "4  11.26  debt_consolidation   36 months                 0   \n",
       "\n",
       "   last_major_derog_none  revol_util  od_ratio  bad_loan  \n",
       "0                    NaN        43.2  0.160624         0  \n",
       "1                    NaN        21.5  0.810777         0  \n",
       "2                    NaN        46.3  0.035147         1  \n",
       "3                    NaN        10.7  0.534887         1  \n",
       "4                    NaN        15.2  0.166500         0  "
      ]
     },
     "execution_count": 2,
     "metadata": {},
     "output_type": "execute_result"
    }
   ],
   "source": [
    "# Load dataset\n",
    "df = pd.read_csv('lending_club_loan_dataset.csv')\n",
    "df.head()\n"
   ]
  },
  {
   "cell_type": "code",
   "execution_count": 3,
   "metadata": {},
   "outputs": [
    {
     "data": {
      "text/plain": [
       "(20000, 14)"
      ]
     },
     "execution_count": 3,
     "metadata": {},
     "output_type": "execute_result"
    }
   ],
   "source": [
    "df.shape"
   ]
  },
  {
   "cell_type": "code",
   "execution_count": 4,
   "metadata": {},
   "outputs": [
    {
     "data": {
      "text/plain": [
       "0    0.8\n",
       "1    0.2\n",
       "Name: bad_loan, dtype: float64"
      ]
     },
     "execution_count": 4,
     "metadata": {},
     "output_type": "execute_result"
    }
   ],
   "source": [
    "# Label ratio\n",
    "df['bad_loan'].value_counts(normalize = True)\n"
   ]
  },
  {
   "cell_type": "code",
   "execution_count": 5,
   "metadata": {},
   "outputs": [
    {
     "data": {
      "text/plain": [
       "<bound method Series.count of id                           0\n",
       "grade                        0\n",
       "annual_inc                   0\n",
       "short_emp                    0\n",
       "emp_length_num               0\n",
       "home_ownership            1491\n",
       "dti                        154\n",
       "purpose                      0\n",
       "term                         0\n",
       "last_delinq_none             0\n",
       "last_major_derog_none    19426\n",
       "revol_util                   0\n",
       "od_ratio                     0\n",
       "bad_loan                     0\n",
       "dtype: int64>"
      ]
     },
     "execution_count": 5,
     "metadata": {},
     "output_type": "execute_result"
    }
   ],
   "source": [
    "df.isnull().sum().count"
   ]
  },
  {
   "cell_type": "code",
   "execution_count": 6,
   "metadata": {},
   "outputs": [],
   "source": [
    "# Fill missing values with the most frequent (mode) value\n",
    "df['home_ownership'].fillna(df['home_ownership'].mode()[0], inplace=True)\n"
   ]
  },
  {
   "cell_type": "code",
   "execution_count": 7,
   "metadata": {},
   "outputs": [
    {
     "data": {
      "image/png": "[encoded data removed]",
      "text/plain": [
       "<Figure size 640x480 with 1 Axes>"
      ]
     },
     "metadata": {},
     "output_type": "display_data"
    }
   ],
   "source": [
    "\n",
    "# Histogram to check the distribution of 'dti'\n",
    "sns.histplot(df['dti'], kde=True)\n",
    "plt.title('Distribution of DTI')\n",
    "plt.show()\n"
   ]
  },
  {
   "cell_type": "code",
   "execution_count": 8,
   "metadata": {},
   "outputs": [],
   "source": [
    "# Fill missing values in 'dti' with a specific value (e.g., 0)\n",
    "\n",
    "df.loc[:, 'dti'] = df['dti'].fillna(0)\n"
   ]
  },
  {
   "cell_type": "code",
   "execution_count": 9,
   "metadata": {},
   "outputs": [],
   "source": [
    "# Drop the 'last_major_derog_none' column\n",
    "df.drop('last_major_derog_none', axis=1, inplace=True)\n"
   ]
  },
  {
   "cell_type": "code",
   "execution_count": 10,
   "metadata": {},
   "outputs": [
    {
     "data": {
      "text/plain": [
       "<bound method Series.count of id                  0\n",
       "grade               0\n",
       "annual_inc          0\n",
       "short_emp           0\n",
       "emp_length_num      0\n",
       "home_ownership      0\n",
       "dti                 0\n",
       "purpose             0\n",
       "term                0\n",
       "last_delinq_none    0\n",
       "revol_util          0\n",
       "od_ratio            0\n",
       "bad_loan            0\n",
       "dtype: int64>"
      ]
     },
     "execution_count": 10,
     "metadata": {},
     "output_type": "execute_result"
    }
   ],
   "source": [
    "df.isnull().sum().count"
   ]
  },
  {
   "cell_type": "code",
   "execution_count": 11,
   "metadata": {},
   "outputs": [],
   "source": [
    "# Label encoding the 'grade' column\n",
    "df['grade'] = df['grade'].map({\n",
    "    'A': 1,\n",
    "    'B': 2,\n",
    "    'C': 3,\n",
    "    'D': 4,\n",
    "    'E': 5,\n",
    "    'F': 6,\n",
    "    'G': 7\n",
    "})\n"
   ]
  },
  {
   "cell_type": "code",
   "execution_count": 12,
   "metadata": {},
   "outputs": [],
   "source": [
    "# One-hot encoding the 'home_ownership' column\n",
    "df = pd.get_dummies(df, columns=['home_ownership', 'purpose', 'term'], drop_first=True)\n"
   ]
  },
  {
   "cell_type": "code",
   "execution_count": 13,
   "metadata": {},
   "outputs": [
    {
     "name": "stdout",
     "output_type": "stream",
     "text": [
      "             id  grade  annual_inc  short_emp  emp_length_num    dti  \\\n",
      "0      11454641      1      100000          1               1  26.27   \n",
      "1       9604874      1       83000          0               4   5.39   \n",
      "2       9684700      4       78000          0              11  18.45   \n",
      "3       9695736      4       37536          0               6  12.28   \n",
      "4       9795013      4       65000          0              11  11.26   \n",
      "...         ...    ...         ...        ...             ...    ...   \n",
      "19995   6595657      2       27000          0               9  18.36   \n",
      "19996   1576331      2       45000          0               2  23.22   \n",
      "19997   6645736      2      104000          0               5  13.27   \n",
      "19998   6625736      1       38400          0               2  12.84   \n",
      "19999   6625685      2      150000          0              11   2.20   \n",
      "\n",
      "       last_delinq_none  revol_util  od_ratio  bad_loan  ...  purpose_house  \\\n",
      "0                     1        43.2  0.160624         0  ...              0   \n",
      "1                     0        21.5  0.810777         0  ...              0   \n",
      "2                     1        46.3  0.035147         1  ...              0   \n",
      "3                     0        10.7  0.534887         1  ...              0   \n",
      "4                     0        15.2  0.166500         0  ...              0   \n",
      "...                 ...         ...       ...       ...  ...            ...   \n",
      "19995                 1        46.5  0.821782         1  ...              0   \n",
      "19996                 0        46.2  0.652200         0  ...              0   \n",
      "19997                 1        78.5  0.482555         0  ...              0   \n",
      "19998                 0        47.4  0.822980         0  ...              0   \n",
      "19999                 0        40.7  0.201388         0  ...              0   \n",
      "\n",
      "       purpose_major_purchase  purpose_medical  purpose_moving  purpose_other  \\\n",
      "0                           0                0               0              0   \n",
      "1                           0                0               0              0   \n",
      "2                           0                0               0              0   \n",
      "3                           0                1               0              0   \n",
      "4                           0                0               0              0   \n",
      "...                       ...              ...             ...            ...   \n",
      "19995                       0                0               0              0   \n",
      "19996                       1                0               0              0   \n",
      "19997                       0                0               0              0   \n",
      "19998                       0                0               0              0   \n",
      "19999                       0                0               0              0   \n",
      "\n",
      "       purpose_small_business  purpose_vacation  purpose_wedding  \\\n",
      "0                           0                 0                0   \n",
      "1                           0                 0                0   \n",
      "2                           0                 0                0   \n",
      "3                           0                 0                0   \n",
      "4                           0                 0                0   \n",
      "...                       ...               ...              ...   \n",
      "19995                       0                 0                0   \n",
      "19996                       0                 0                0   \n",
      "19997                       0                 0                0   \n",
      "19998                       0                 0                0   \n",
      "19999                       0                 0                0   \n",
      "\n",
      "       term_ 36 months  term_ 60 months  \n",
      "0                    1                0  \n",
      "1                    1                0  \n",
      "2                    0                1  \n",
      "3                    0                1  \n",
      "4                    1                0  \n",
      "...                ...              ...  \n",
      "19995                1                0  \n",
      "19996                1                0  \n",
      "19997                1                0  \n",
      "19998                1                0  \n",
      "19999                1                0  \n",
      "\n",
      "[20000 rows x 25 columns]\n"
     ]
    }
   ],
   "source": [
    "print(df)"
   ]
  },
  {
   "cell_type": "code",
   "execution_count": 14,
   "metadata": {},
   "outputs": [
    {
     "data": {
      "image/png": "[encoded data removed]",
      "text/plain": [
       "<Figure size 1000x600 with 1 Axes>"
      ]
     },
     "metadata": {},
     "output_type": "display_data"
    }
   ],
   "source": [
    "# Create a boxplot for the 'annual_inc' column\n",
    "plt.figure(figsize=(10, 6))\n",
    "sns.boxplot(x=df['annual_inc'])\n",
    "plt.title('Boxplot of Annual Income')\n",
    "plt.xlabel('Annual Income')\n",
    "plt.show()\n",
    "\n"
   ]
  },
  {
   "cell_type": "code",
   "execution_count": 15,
   "metadata": {},
   "outputs": [],
   "source": [
    "# Using IQR method to remove outliers\n",
    "df_cleaned = df[~((df['annual_inc'] < 0.0) | (df['annual_inc'] > 0.4))]\n"
   ]
  },
  {
   "cell_type": "code",
   "execution_count": 16,
   "metadata": {},
   "outputs": [
    {
     "data": {
      "image/png": "[encoded data removed]",
      "text/plain": [
       "<Figure size 1000x600 with 1 Axes>"
      ]
     },
     "metadata": {},
     "output_type": "display_data"
    }
   ],
   "source": [
    "# Create a boxplot for the 'annual_inc' column\n",
    "plt.figure(figsize=(10, 6))\n",
    "sns.boxplot(x=df['annual_inc'])\n",
    "plt.title('Boxplot of Annual Income')\n",
    "plt.xlabel('Annual Income')\n",
    "plt.show()\n"
   ]
  },
  {
   "cell_type": "code",
   "execution_count": 17,
   "metadata": {},
   "outputs": [],
   "source": [
    "from sklearn.model_selection import train_test_split\n",
    "\n",
    "# Features and target variable\n",
    "X = df.drop('bad_loan', axis=1)  # Features\n",
    "y = df['bad_loan']                # Target variable\n",
    "\n",
    "# Split the data\n",
    "X_train, X_test, y_train, y_test = train_test_split(X, y, test_size=0.3, random_state=42)\n"
   ]
  },
  {
   "cell_type": "code",
   "execution_count": 18,
   "metadata": {},
   "outputs": [
    {
     "name": "stdout",
     "output_type": "stream",
     "text": [
      "         id  grade  annual_inc  short_emp  emp_length_num    dti  \\\n",
      "0  11454641      1      100000          1               1  26.27   \n",
      "1   9604874      1       83000          0               4   5.39   \n",
      "2   9684700      4       78000          0              11  18.45   \n",
      "3   9695736      4       37536          0               6  12.28   \n",
      "4   9795013      4       65000          0              11  11.26   \n",
      "\n",
      "   last_delinq_none  revol_util  od_ratio  bad_loan  ...  home_ownership_RENT  \\\n",
      "0                 1        43.2  0.160624         0  ...                    1   \n",
      "1                 0        21.5  0.810777         0  ...                    0   \n",
      "2                 1        46.3  0.035147         1  ...                    0   \n",
      "3                 0        10.7  0.534887         1  ...                    0   \n",
      "4                 0        15.2  0.166500         0  ...                    0   \n",
      "\n",
      "   purpose_credit_card  purpose_debt_consolidation  purpose_home_improvement  \\\n",
      "0                    1                           0                         0   \n",
      "1                    1                           0                         0   \n",
      "2                    0                           1                         0   \n",
      "3                    0                           0                         0   \n",
      "4                    0                           1                         0   \n",
      "\n",
      "   purpose_other  purpose_small_business  purpose_vacation  purpose_wedding  \\\n",
      "0              0                       0                 0                0   \n",
      "1              0                       0                 0                0   \n",
      "2              0                       0                 0                0   \n",
      "3              0                       0                 0                0   \n",
      "4              0                       0                 0                0   \n",
      "\n",
      "   term_ 36 months  term_ 60 months  \n",
      "0                1                0  \n",
      "1                1                0  \n",
      "2                0                1  \n",
      "3                0                1  \n",
      "4                1                0  \n",
      "\n",
      "[5 rows x 21 columns]\n"
     ]
    }
   ],
   "source": [
    "# Dropping less important features\n",
    "df = df.drop(columns=['purpose_house', 'purpose_major_purchase', 'purpose_medical', 'purpose_moving'])\n",
    "\n",
    "# Display the updated DataFrame\n",
    "print(df.head())\n"
   ]
  },
  {
   "cell_type": "code",
   "execution_count": 19,
   "metadata": {},
   "outputs": [
    {
     "data": {
      "text/html": [
       "<div>\n",
       "<style scoped>\n",
       "    .dataframe tbody tr th:only-of-type {\n",
       "        vertical-align: middle;\n",
       "    }\n",
       "\n",
       "    .dataframe tbody tr th {\n",
       "        vertical-align: top;\n",
       "    }\n",
       "\n",
       "    .dataframe thead th {\n",
       "        text-align: right;\n",
       "    }\n",
       "</style>\n",
       "<table border=\"1\" class=\"dataframe\">\n",
       "  <thead>\n",
       "    <tr style=\"text-align: right;\">\n",
       "      <th></th>\n",
       "      <th>id</th>\n",
       "      <th>grade</th>\n",
       "      <th>annual_inc</th>\n",
       "      <th>short_emp</th>\n",
       "      <th>emp_length_num</th>\n",
       "      <th>dti</th>\n",
       "      <th>last_delinq_none</th>\n",
       "      <th>revol_util</th>\n",
       "      <th>od_ratio</th>\n",
       "      <th>bad_loan</th>\n",
       "      <th>...</th>\n",
       "      <th>home_ownership_RENT</th>\n",
       "      <th>purpose_credit_card</th>\n",
       "      <th>purpose_debt_consolidation</th>\n",
       "      <th>purpose_home_improvement</th>\n",
       "      <th>purpose_other</th>\n",
       "      <th>purpose_small_business</th>\n",
       "      <th>purpose_vacation</th>\n",
       "      <th>purpose_wedding</th>\n",
       "      <th>term_ 36 months</th>\n",
       "      <th>term_ 60 months</th>\n",
       "    </tr>\n",
       "  </thead>\n",
       "  <tbody>\n",
       "    <tr>\n",
       "      <th>0</th>\n",
       "      <td>11454641</td>\n",
       "      <td>1</td>\n",
       "      <td>100000</td>\n",
       "      <td>1</td>\n",
       "      <td>1</td>\n",
       "      <td>26.27</td>\n",
       "      <td>1</td>\n",
       "      <td>43.2</td>\n",
       "      <td>0.160624</td>\n",
       "      <td>0</td>\n",
       "      <td>...</td>\n",
       "      <td>1</td>\n",
       "      <td>1</td>\n",
       "      <td>0</td>\n",
       "      <td>0</td>\n",
       "      <td>0</td>\n",
       "      <td>0</td>\n",
       "      <td>0</td>\n",
       "      <td>0</td>\n",
       "      <td>1</td>\n",
       "      <td>0</td>\n",
       "    </tr>\n",
       "    <tr>\n",
       "      <th>1</th>\n",
       "      <td>9604874</td>\n",
       "      <td>1</td>\n",
       "      <td>83000</td>\n",
       "      <td>0</td>\n",
       "      <td>4</td>\n",
       "      <td>5.39</td>\n",
       "      <td>0</td>\n",
       "      <td>21.5</td>\n",
       "      <td>0.810777</td>\n",
       "      <td>0</td>\n",
       "      <td>...</td>\n",
       "      <td>0</td>\n",
       "      <td>1</td>\n",
       "      <td>0</td>\n",
       "      <td>0</td>\n",
       "      <td>0</td>\n",
       "      <td>0</td>\n",
       "      <td>0</td>\n",
       "      <td>0</td>\n",
       "      <td>1</td>\n",
       "      <td>0</td>\n",
       "    </tr>\n",
       "    <tr>\n",
       "      <th>2</th>\n",
       "      <td>9684700</td>\n",
       "      <td>4</td>\n",
       "      <td>78000</td>\n",
       "      <td>0</td>\n",
       "      <td>11</td>\n",
       "      <td>18.45</td>\n",
       "      <td>1</td>\n",
       "      <td>46.3</td>\n",
       "      <td>0.035147</td>\n",
       "      <td>1</td>\n",
       "      <td>...</td>\n",
       "      <td>0</td>\n",
       "      <td>0</td>\n",
       "      <td>1</td>\n",
       "      <td>0</td>\n",
       "      <td>0</td>\n",
       "      <td>0</td>\n",
       "      <td>0</td>\n",
       "      <td>0</td>\n",
       "      <td>0</td>\n",
       "      <td>1</td>\n",
       "    </tr>\n",
       "    <tr>\n",
       "      <th>3</th>\n",
       "      <td>9695736</td>\n",
       "      <td>4</td>\n",
       "      <td>37536</td>\n",
       "      <td>0</td>\n",
       "      <td>6</td>\n",
       "      <td>12.28</td>\n",
       "      <td>0</td>\n",
       "      <td>10.7</td>\n",
       "      <td>0.534887</td>\n",
       "      <td>1</td>\n",
       "      <td>...</td>\n",
       "      <td>0</td>\n",
       "      <td>0</td>\n",
       "      <td>0</td>\n",
       "      <td>0</td>\n",
       "      <td>0</td>\n",
       "      <td>0</td>\n",
       "      <td>0</td>\n",
       "      <td>0</td>\n",
       "      <td>0</td>\n",
       "      <td>1</td>\n",
       "    </tr>\n",
       "    <tr>\n",
       "      <th>4</th>\n",
       "      <td>9795013</td>\n",
       "      <td>4</td>\n",
       "      <td>65000</td>\n",
       "      <td>0</td>\n",
       "      <td>11</td>\n",
       "      <td>11.26</td>\n",
       "      <td>0</td>\n",
       "      <td>15.2</td>\n",
       "      <td>0.166500</td>\n",
       "      <td>0</td>\n",
       "      <td>...</td>\n",
       "      <td>0</td>\n",
       "      <td>0</td>\n",
       "      <td>1</td>\n",
       "      <td>0</td>\n",
       "      <td>0</td>\n",
       "      <td>0</td>\n",
       "      <td>0</td>\n",
       "      <td>0</td>\n",
       "      <td>1</td>\n",
       "      <td>0</td>\n",
       "    </tr>\n",
       "  </tbody>\n",
       "</table>\n",
       "<p>5 rows × 21 columns</p>\n",
       "</div>"
      ],
      "text/plain": [
       "         id  grade  annual_inc  short_emp  emp_length_num    dti  \\\n",
       "0  11454641      1      100000          1               1  26.27   \n",
       "1   9604874      1       83000          0               4   5.39   \n",
       "2   9684700      4       78000          0              11  18.45   \n",
       "3   9695736      4       37536          0               6  12.28   \n",
       "4   9795013      4       65000          0              11  11.26   \n",
       "\n",
       "   last_delinq_none  revol_util  od_ratio  bad_loan  ...  home_ownership_RENT  \\\n",
       "0                 1        43.2  0.160624         0  ...                    1   \n",
       "1                 0        21.5  0.810777         0  ...                    0   \n",
       "2                 1        46.3  0.035147         1  ...                    0   \n",
       "3                 0        10.7  0.534887         1  ...                    0   \n",
       "4                 0        15.2  0.166500         0  ...                    0   \n",
       "\n",
       "   purpose_credit_card  purpose_debt_consolidation  purpose_home_improvement  \\\n",
       "0                    1                           0                         0   \n",
       "1                    1                           0                         0   \n",
       "2                    0                           1                         0   \n",
       "3                    0                           0                         0   \n",
       "4                    0                           1                         0   \n",
       "\n",
       "   purpose_other  purpose_small_business  purpose_vacation  purpose_wedding  \\\n",
       "0              0                       0                 0                0   \n",
       "1              0                       0                 0                0   \n",
       "2              0                       0                 0                0   \n",
       "3              0                       0                 0                0   \n",
       "4              0                       0                 0                0   \n",
       "\n",
       "   term_ 36 months  term_ 60 months  \n",
       "0                1                0  \n",
       "1                1                0  \n",
       "2                0                1  \n",
       "3                0                1  \n",
       "4                1                0  \n",
       "\n",
       "[5 rows x 21 columns]"
      ]
     },
     "execution_count": 19,
     "metadata": {},
     "output_type": "execute_result"
    }
   ],
   "source": [
    "df.head()"
   ]
  },
  {
   "cell_type": "code",
   "execution_count": 20,
   "metadata": {},
   "outputs": [
    {
     "name": "stdout",
     "output_type": "stream",
     "text": [
      "Confusion Matrix:\n",
      "[[4820    0]\n",
      " [1180    0]]\n",
      "\n",
      "Classification Report:\n",
      "              precision    recall  f1-score   support\n",
      "\n",
      "           0       0.80      1.00      0.89      4820\n",
      "           1       0.00      0.00      0.00      1180\n",
      "\n",
      "    accuracy                           0.80      6000\n",
      "   macro avg       0.40      0.50      0.45      6000\n",
      "weighted avg       0.65      0.80      0.72      6000\n",
      "\n"
     ]
    },
    {
     "name": "stderr",
     "output_type": "stream",
     "text": [
      "c:\\Users\\HP\\Documents\\PythonTutorial\\Lib\\site-packages\\sklearn\\metrics\\_classification.py:1344: UndefinedMetricWarning: Precision and F-score are ill-defined and being set to 0.0 in labels with no predicted samples. Use `zero_division` parameter to control this behavior.\n",
      "  _warn_prf(average, modifier, msg_start, len(result))\n",
      "c:\\Users\\HP\\Documents\\PythonTutorial\\Lib\\site-packages\\sklearn\\metrics\\_classification.py:1344: UndefinedMetricWarning: Precision and F-score are ill-defined and being set to 0.0 in labels with no predicted samples. Use `zero_division` parameter to control this behavior.\n",
      "  _warn_prf(average, modifier, msg_start, len(result))\n",
      "c:\\Users\\HP\\Documents\\PythonTutorial\\Lib\\site-packages\\sklearn\\metrics\\_classification.py:1344: UndefinedMetricWarning: Precision and F-score are ill-defined and being set to 0.0 in labels with no predicted samples. Use `zero_division` parameter to control this behavior.\n",
      "  _warn_prf(average, modifier, msg_start, len(result))\n"
     ]
    }
   ],
   "source": [
    "from sklearn.metrics import classification_report, confusion_matrix, roc_auc_score\n",
    "#from sklearn.metrics import classification_report, confusion_matrix, roc_auc_score\n",
    "from sklearn.linear_model import LogisticRegression\n",
    "from sklearn.preprocessing import label_binarize\n",
    "from sklearn.model_selection import train_test_split\n",
    "from sklearn.preprocessing import StandardScaler\n",
    "\n",
    "logistic_model = LogisticRegression(max_iter=1000, random_state=42)\n",
    "\n",
    "# Fit the model to the training data\n",
    "logistic_model.fit(X_train, y_train)\n",
    "\n",
    "# Make predictions on the test data\n",
    "y_pred = logistic_model.predict(X_test)\n",
    "\n",
    "# Evaluate the model\n",
    "print(\"Confusion Matrix:\")\n",
    "print(confusion_matrix(y_test, y_pred))\n",
    "\n",
    "print(\"\\nClassification Report:\")\n",
    "print(classification_report(y_test, y_pred))"
   ]
  },
  {
   "cell_type": "code",
   "execution_count": 21,
   "metadata": {},
   "outputs": [
    {
     "name": "stdout",
     "output_type": "stream",
     "text": [
      "Confusion Matrix:\n",
      " [[3818 1002]\n",
      " [ 831  349]]\n",
      "Classification Report:\n",
      "               precision    recall  f1-score   support\n",
      "\n",
      "           0       0.82      0.79      0.81      4820\n",
      "           1       0.26      0.30      0.28      1180\n",
      "\n",
      "    accuracy                           0.69      6000\n",
      "   macro avg       0.54      0.54      0.54      6000\n",
      "weighted avg       0.71      0.69      0.70      6000\n",
      "\n"
     ]
    }
   ],
   "source": [
    "decision_tree_model = DecisionTreeClassifier(random_state=42)\n",
    "\n",
    "# Train the model\n",
    "decision_tree_model.fit(X_train, y_train)\n",
    "\n",
    "# Make predictions on the test set\n",
    "y_pred = decision_tree_model.predict(X_test)\n",
    "\n",
    "# Evaluate the model\n",
    "\n",
    "confusion = confusion_matrix(y_test, y_pred)\n",
    "report = classification_report(y_test, y_pred)\n",
    "\n",
    "print(\"Confusion Matrix:\\n\", confusion)\n",
    "print(\"Classification Report:\\n\", report)"
   ]
  },
  {
   "cell_type": "code",
   "execution_count": 22,
   "metadata": {},
   "outputs": [
    {
     "name": "stdout",
     "output_type": "stream",
     "text": [
      "Confusion Matrix:\n",
      " [[4737   83]\n",
      " [1116   64]]\n",
      "Classification Report:\n",
      "               precision    recall  f1-score   support\n",
      "\n",
      "           0       0.81      0.98      0.89      4820\n",
      "           1       0.44      0.05      0.10      1180\n",
      "\n",
      "    accuracy                           0.80      6000\n",
      "   macro avg       0.62      0.52      0.49      6000\n",
      "weighted avg       0.74      0.80      0.73      6000\n",
      "\n"
     ]
    }
   ],
   "source": [
    "random_forest_model = RandomForestClassifier(n_estimators=100, random_state=42)\n",
    "\n",
    "# Train the model\n",
    "random_forest_model.fit(X_train, y_train)\n",
    "\n",
    "# Make predictions on the test set\n",
    "y_pred = random_forest_model.predict(X_test)\n",
    "\n",
    "# Evaluate the model\n",
    "confusion = confusion_matrix(y_test, y_pred)\n",
    "report = classification_report(y_test, y_pred)\n",
    "\n",
    "\n",
    "print(\"Confusion Matrix:\\n\", confusion)\n",
    "print(\"Classification Report:\\n\", report)"
   ]
  },
  {
   "cell_type": "code",
   "execution_count": 23,
   "metadata": {},
   "outputs": [
    {
     "data": {
      "image/png": "[encoded data removed]",
      "text/plain": [
       "<Figure size 1000x600 with 1 Axes>"
      ]
     },
     "metadata": {},
     "output_type": "display_data"
    }
   ],
   "source": [
    "importance = random_forest_model.feature_importances_\n",
    "\n",
    "# Create a DataFrame for feature importance\n",
    "feature_importance_df = pd.DataFrame({'Feature': X.columns, 'Importance': importance})\n",
    "\n",
    "# Sort the DataFrame by importance\n",
    "feature_importance_df = feature_importance_df.sort_values(by='Importance', ascending=False)\n",
    "\n",
    "# Plot feature importance\n",
    "plt.figure(figsize=(10, 6))\n",
    "sns.barplot(x='Importance', y='Feature', data=feature_importance_df)\n",
    "plt.title('Feature Importance')\n",
    "plt.xlabel('Importance Score')\n",
    "plt.ylabel('Feature')\n",
    "plt.show()"
   ]
  },
  {
   "cell_type": "code",
   "execution_count": 24,
   "metadata": {},
   "outputs": [
    {
     "name": "stdout",
     "output_type": "stream",
     "text": [
      "Confusion Matrix:\n",
      " [[4763   57]\n",
      " [1121   59]]\n",
      "Classification Report:\n",
      "               precision    recall  f1-score   support\n",
      "\n",
      "           0       0.81      0.99      0.89      4820\n",
      "           1       0.51      0.05      0.09      1180\n",
      "\n",
      "    accuracy                           0.80      6000\n",
      "   macro avg       0.66      0.52      0.49      6000\n",
      "weighted avg       0.75      0.80      0.73      6000\n",
      "\n"
     ]
    }
   ],
   "source": [
    "gbm_model = XGBClassifier(n_estimators=100, learning_rate=0.1, max_depth=3, random_state=42)\n",
    "\n",
    "# Train the model\n",
    "gbm_model.fit(X_train, y_train)\n",
    "\n",
    "# Make predictions on the test set\n",
    "y_pred = gbm_model.predict(X_test)\n",
    "\n",
    "# Evaluate the model\n",
    "\n",
    "confusion = confusion_matrix(y_test, y_pred)\n",
    "report = classification_report(y_test, y_pred)\n",
    "\n",
    "print(\"Confusion Matrix:\\n\", confusion)\n",
    "print(\"Classification Report:\\n\", report)"
   ]
  },
  {
   "cell_type": "code",
   "execution_count": 25,
   "metadata": {},
   "outputs": [
    {
     "name": "stdout",
     "output_type": "stream",
     "text": [
      "Fitting 3 folds for each of 108 candidates, totalling 324 fits\n",
      "Best Parameters: {'max_depth': 10, 'min_samples_leaf': 4, 'min_samples_split': 10, 'n_estimators': 100}\n",
      "Accuracy: 0.8046666666666666\n",
      "Classification Report:\n",
      "               precision    recall  f1-score   support\n",
      "\n",
      "           0       0.81      1.00      0.89      4820\n",
      "           1       0.62      0.02      0.03      1180\n",
      "\n",
      "    accuracy                           0.80      6000\n",
      "   macro avg       0.71      0.51      0.46      6000\n",
      "weighted avg       0.77      0.80      0.72      6000\n",
      "\n"
     ]
    }
   ],
   "source": [
    "from sklearn.model_selection import train_test_split, GridSearchCV\n",
    "\n",
    "\n",
    "# Set up the parameter grid to search\n",
    "param_grid = {\n",
    "    'n_estimators': [50, 100, 200],  # Number of trees\n",
    "    'max_depth': [None, 10, 20, 30],  # Maximum depth of the trees\n",
    "    'min_samples_split': [2, 5, 10],  # Minimum samples required to split a node\n",
    "    'min_samples_leaf': [1, 2, 4],     # Minimum samples required at each leaf node\n",
    "}\n",
    "\n",
    "# Set up the GridSearchCV\n",
    "grid_search = GridSearchCV(estimator=random_forest_model, param_grid=param_grid, \n",
    "                           cv=3, n_jobs=-1, verbose=2)\n",
    "# Fit the grid search to the training data\n",
    "grid_search.fit(X_train, y_train)\n",
    "\n",
    "# Get the best parameters and model\n",
    "best_params = grid_search.best_params_\n",
    "best_model = grid_search.best_estimator_\n",
    "\n",
    "# Print the best parameters\n",
    "print(\"Best Parameters:\", best_params)\n",
    "\n",
    "# Make predictions on the test set\n",
    "y_pred = best_model.predict(X_test)\n",
    "\n",
    "# Evaluate the model\n",
    "print(\"Accuracy:\", accuracy_score(y_test, y_pred))\n",
    "print(\"Classification Report:\\n\", classification_report(y_test, y_pred))\n",
    "\n"
   ]
  },
  {
   "cell_type": "code",
   "execution_count": 26,
   "metadata": {},
   "outputs": [
    {
     "name": "stdout",
     "output_type": "stream",
     "text": [
      "[0.796   0.79675 0.79525 0.79975 0.7905 ]\n",
      "Average Cross-Validation Score: 0.7956\n"
     ]
    }
   ],
   "source": [
    "from sklearn.model_selection import cross_val_score\n",
    "cv_scores = cross_val_score(random_forest_model, X, y, cv=5)\n",
    "print(cv_scores)\n",
    "average_cv_score = np.mean(cv_scores)\n",
    "\n",
    "# Print the average score\n",
    "print(f\"Average Cross-Validation Score: {average_cv_score:.4f}\")"
   ]
  },
  {
   "cell_type": "code",
   "execution_count": 29,
   "metadata": {},
   "outputs": [
    {
     "name": "stdout",
     "output_type": "stream",
     "text": [
      "Predicted bad loan status (0 = No, 1 = Yes): 0\n"
     ]
    }
   ],
   "source": [
    "import pandas as pd\n",
    "\n",
    "# Create a sample input that has all the required features\n",
    "sample_input = pd.DataFrame({\n",
    "    'annual_inc': [60000],          \n",
    "    'short_emp': [0],               \n",
    "    'emp_length_num': [5],          \n",
    "    'dti': [15.0],                  \n",
    "    'revol_util': [30.5],           \n",
    "    'od_ratio': [0.5],              \n",
    "    'home_ownership_OWN': [0],      \n",
    "    'home_ownership_MORTGAGE': [1], \n",
    "    'home_ownership_RENT': [0],     \n",
    "    'grade': [1],                   # Assuming 'grade' was label encoded\n",
    "    'id': [123456],                 # Sample ID\n",
    "    'last_delinq_none': [1],        # Example value from the training data\n",
    "    'total_rec_late_fee': [0],      # Additional field based on your data\n",
    "    'purpose_credit_card': [1],     # One-hot encoded purpose features\n",
    "    'purpose_debt_consolidation': [0],\n",
    "    'purpose_home_improvement': [0],\n",
    "    'purpose_other': [0],\n",
    "    'purpose_small_business': [0],\n",
    "    'purpose_vacation': [0],\n",
    "    'purpose_wedding': [0],\n",
    "    'term_ 36 months': [1],         # One-hot encoded term feature\n",
    "    'term_ 60 months': [0],         # Assuming binary encoding for terms\n",
    "    # Add other fields you used in the model...\n",
    "})\n",
    "\n",
    "# Ensure all features used in training are present in sample_input\n",
    "missing_cols = set(X_train.columns) - set(sample_input.columns)\n",
    "for col in missing_cols:\n",
    "    sample_input[col] = 0  # Fill missing columns with 0 or appropriate default values\n",
    "\n",
    "# Reorder columns to match the training set order\n",
    "sample_input = sample_input[X_train.columns]\n",
    "\n",
    "# Step 2: Use the trained model to make predictions\n",
    "prediction = random_forest_model.predict(sample_input)\n",
    "\n",
    "# Step 3: Display the prediction result\n",
    "print(\"Predicted bad loan status (0 = No, 1 = Yes):\", prediction[0])\n"
   ]
  },
  {
   "cell_type": "code",
   "execution_count": 32,
   "metadata": {},
   "outputs": [],
   "source": [
    "import pickle\n",
    "\n",
    "# Assuming 'model' is your trained machine learning model\n",
    "with open('loan_prediction_model.xgb', 'wb') as file:\n",
    "    pickle.dump(random_forest_model, file)\n"
   ]
  }
 ],
 "metadata": {
  "kernelspec": {
   "display_name": "Python 3 (ipykernel)",
   "language": "python",
   "name": "python3"
  },
  "language_info": {
   "codemirror_mode": {
    "name": "ipython",
    "version": 3
   },
   "file_extension": ".py",
   "mimetype": "text/x-python",
   "name": "python",
   "nbconvert_exporter": "python",
   "pygments_lexer": "ipython3",
   "version": "3.11.3"
  }
 },
 "nbformat": 4,
 "nbformat_minor": 2
}
